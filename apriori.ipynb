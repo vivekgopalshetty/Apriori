{
 "cells": [
  {
   "cell_type": "markdown",
   "metadata": {},
   "source": [
    "#  APRIORI ALGORITHM "
   ]
  },
  {
   "cell_type": "code",
   "execution_count": 1,
   "metadata": {},
   "outputs": [],
   "source": [
    "import numpy as np\n",
    "import pandas as pd\n",
    "from itertools import combinations  "
   ]
  },
  {
   "cell_type": "code",
   "execution_count": 2,
   "metadata": {},
   "outputs": [],
   "source": [
    "x=[\"T\"+str(i) for i in range(1,10)]"
   ]
  },
  {
   "cell_type": "code",
   "execution_count": 3,
   "metadata": {},
   "outputs": [],
   "source": [
    "li=[[1,2,5],[2,4],[2,3],[1,2,4],[1,3],[2,3],[1,3],[1,2,3,5],[1,2,3]]"
   ]
  },
  {
   "cell_type": "code",
   "execution_count": 4,
   "metadata": {},
   "outputs": [
    {
     "data": {
      "text/html": [
       "<div>\n",
       "<style scoped>\n",
       "    .dataframe tbody tr th:only-of-type {\n",
       "        vertical-align: middle;\n",
       "    }\n",
       "\n",
       "    .dataframe tbody tr th {\n",
       "        vertical-align: top;\n",
       "    }\n",
       "\n",
       "    .dataframe thead th {\n",
       "        text-align: right;\n",
       "    }\n",
       "</style>\n",
       "<table border=\"1\" class=\"dataframe\">\n",
       "  <thead>\n",
       "    <tr style=\"text-align: right;\">\n",
       "      <th></th>\n",
       "      <th>TID</th>\n",
       "      <th>items</th>\n",
       "    </tr>\n",
       "  </thead>\n",
       "  <tbody>\n",
       "    <tr>\n",
       "      <th>0</th>\n",
       "      <td>T1</td>\n",
       "      <td>[1, 2, 5]</td>\n",
       "    </tr>\n",
       "    <tr>\n",
       "      <th>1</th>\n",
       "      <td>T2</td>\n",
       "      <td>[2, 4]</td>\n",
       "    </tr>\n",
       "    <tr>\n",
       "      <th>2</th>\n",
       "      <td>T3</td>\n",
       "      <td>[2, 3]</td>\n",
       "    </tr>\n",
       "    <tr>\n",
       "      <th>3</th>\n",
       "      <td>T4</td>\n",
       "      <td>[1, 2, 4]</td>\n",
       "    </tr>\n",
       "    <tr>\n",
       "      <th>4</th>\n",
       "      <td>T5</td>\n",
       "      <td>[1, 3]</td>\n",
       "    </tr>\n",
       "    <tr>\n",
       "      <th>5</th>\n",
       "      <td>T6</td>\n",
       "      <td>[2, 3]</td>\n",
       "    </tr>\n",
       "    <tr>\n",
       "      <th>6</th>\n",
       "      <td>T7</td>\n",
       "      <td>[1, 3]</td>\n",
       "    </tr>\n",
       "    <tr>\n",
       "      <th>7</th>\n",
       "      <td>T8</td>\n",
       "      <td>[1, 2, 3, 5]</td>\n",
       "    </tr>\n",
       "    <tr>\n",
       "      <th>8</th>\n",
       "      <td>T9</td>\n",
       "      <td>[1, 2, 3]</td>\n",
       "    </tr>\n",
       "  </tbody>\n",
       "</table>\n",
       "</div>"
      ],
      "text/plain": [
       "  TID         items\n",
       "0  T1     [1, 2, 5]\n",
       "1  T2        [2, 4]\n",
       "2  T3        [2, 3]\n",
       "3  T4     [1, 2, 4]\n",
       "4  T5        [1, 3]\n",
       "5  T6        [2, 3]\n",
       "6  T7        [1, 3]\n",
       "7  T8  [1, 2, 3, 5]\n",
       "8  T9     [1, 2, 3]"
      ]
     },
     "execution_count": 4,
     "metadata": {},
     "output_type": "execute_result"
    }
   ],
   "source": [
    "data=pd.DataFrame(columns=['TID','items'])\n",
    "data['TID']=x\n",
    "data['items']=li\n",
    "data"
   ]
  },
  {
   "cell_type": "code",
   "execution_count": 5,
   "metadata": {},
   "outputs": [],
   "source": [
    "def liinli(li1,li2):\n",
    "    for i in li1:\n",
    "        if i not in li2:\n",
    "            return False\n",
    "    return True"
   ]
  },
  {
   "cell_type": "code",
   "execution_count": 6,
   "metadata": {},
   "outputs": [],
   "source": [
    "minimum_support_count=2\n",
    "minimum_confidence=60\n",
    "freq_table={}\n",
    "confidence_list={}\n",
    "k=1"
   ]
  },
  {
   "cell_type": "code",
   "execution_count": 7,
   "metadata": {},
   "outputs": [
    {
     "name": "stdout",
     "output_type": "stream",
     "text": [
      "{1, 2, 3, 4, 5}\n",
      "{1: 6, 2: 7, 5: 2, 4: 2, 3: 6}\n"
     ]
    }
   ],
   "source": [
    "for i in zip(data['items']):\n",
    "    i=i[0]\n",
    "    for item in i:\n",
    "        if (item in freq_table):\n",
    "            freq_table[item] += 1\n",
    "        else:\n",
    "            freq_table[item] = 1\n",
    "\n",
    "popli=[]\n",
    "for i in freq_table:\n",
    "    if freq_table[i]<minimum_support_count:\n",
    "        popli.append(i)\n",
    "\n",
    "for i in popli:\n",
    "    freq_table.pop(i)\n",
    "\n",
    "li=[]\n",
    "for i in freq_table.keys():\n",
    "       li.append(i)\n",
    "\n",
    "keys=set(li)\n",
    "confidence_list.update(freq_table)\n",
    "print(keys)\n",
    "print(freq_table)"
   ]
  },
  {
   "cell_type": "code",
   "execution_count": 8,
   "metadata": {},
   "outputs": [
    {
     "name": "stdout",
     "output_type": "stream",
     "text": [
      "{1, 2, 3, 4, 5}\n",
      "{(1, 2): 4, (1, 3): 4, (1, 5): 2, (2, 3): 4, (2, 4): 2, (2, 5): 2}\n",
      "{1, 2, 3, 5}\n",
      "{(1, 2, 3): 2, (1, 2, 5): 2}\n",
      "set()\n",
      "{}\n"
     ]
    }
   ],
   "source": [
    "while(freq_table):\n",
    "    k=k+1\n",
    "    iterdata={}\n",
    "    perm=combinations(list(keys), k) \n",
    "    iterdata=list(perm)\n",
    "    freq_table={}\n",
    "\n",
    "    for i in zip(data['items']):\n",
    "        i=i[0]\n",
    "        for item in iterdata:\n",
    "            if item not in freq_table:\n",
    "                freq_table[item]=0\n",
    "                if liinli(item,i):\n",
    "                    freq_table[item] += 1\n",
    "            elif liinli(item,i):\n",
    "                freq_table[item] += 1\n",
    "\n",
    "    popli=[]\n",
    "    for i in freq_table:\n",
    "        if freq_table[i]<minimum_support_count:\n",
    "            popli.append(i)\n",
    "\n",
    "    for i in popli:\n",
    "        freq_table.pop(i)\n",
    "\n",
    "    li=[]\n",
    "    for i in freq_table.keys():\n",
    "        tuptoli=list(i)\n",
    "        li.extend(tuptoli)\n",
    "    \n",
    "    if (freq_table):\n",
    "        prev_table=freq_table\n",
    "    confidence_list.update(freq_table)\n",
    "    keys=set(li)\n",
    "    print(keys)\n",
    "    print(freq_table)\n"
   ]
  },
  {
   "cell_type": "markdown",
   "metadata": {},
   "source": [
    "# Confidence \n"
   ]
  },
  {
   "cell_type": "markdown",
   "metadata": {},
   "source": [
    "<img src=\"confidence.png\">"
   ]
  },
  {
   "cell_type": "code",
   "execution_count": 9,
   "metadata": {},
   "outputs": [
    {
     "data": {
      "text/plain": [
       "{1: 6,\n",
       " 2: 7,\n",
       " 5: 2,\n",
       " 4: 2,\n",
       " 3: 6,\n",
       " (1, 2): 4,\n",
       " (1, 3): 4,\n",
       " (1, 5): 2,\n",
       " (2, 3): 4,\n",
       " (2, 4): 2,\n",
       " (2, 5): 2,\n",
       " (1, 2, 3): 2,\n",
       " (1, 2, 5): 2}"
      ]
     },
     "execution_count": 9,
     "metadata": {},
     "output_type": "execute_result"
    }
   ],
   "source": [
    "confidence_list"
   ]
  },
  {
   "cell_type": "code",
   "execution_count": 10,
   "metadata": {},
   "outputs": [
    {
     "data": {
      "text/plain": [
       "{(1, 2, 3): 2, (1, 2, 5): 2}"
      ]
     },
     "execution_count": 10,
     "metadata": {},
     "output_type": "execute_result"
    }
   ],
   "source": [
    "prev_table"
   ]
  },
  {
   "cell_type": "markdown",
   "metadata": {},
   "source": [
    "#RULE 1 verification 1,2 on 3"
   ]
  },
  {
   "cell_type": "code",
   "execution_count": 11,
   "metadata": {},
   "outputs": [
    {
     "name": "stdout",
     "output_type": "stream",
     "text": [
      "1 2 \n",
      "3\n",
      "confidence of  (1, 2) => (1, 2, 3) is 50.0\n",
      "This is not very good assertion becuase our confidence percentage is set to 60%\n"
     ]
    }
   ],
   "source": [
    "from itertools import permutations \n",
    "n=list(map(int,input().strip().split(' ')))\n",
    "k=int(input())\n",
    "\n",
    "li=[]\n",
    "li.extend(n)\n",
    "li.append(k)\n",
    "t1=tuple(n)\n",
    "t2=tuple(li)\n",
    "\n",
    "confidence=(confidence_list[t2]/confidence_list[t1])*100\n",
    "print('confidence of ',t1,'=>',t2,'is',confidence)\n",
    "if(confidence>60):\n",
    "    print('This is very good assertion becuase our confidence percentage is set to 60%')\n",
    "else:\n",
    "    print('This is not very good assertion becuase our confidence percentage is set to 60%')"
   ]
  },
  {
   "cell_type": "code",
   "execution_count": null,
   "metadata": {},
   "outputs": [],
   "source": []
  }
 ],
 "metadata": {
  "kernelspec": {
   "display_name": "Python 3",
   "language": "python",
   "name": "python3"
  },
  "language_info": {
   "codemirror_mode": {
    "name": "ipython",
    "version": 3
   },
   "file_extension": ".py",
   "mimetype": "text/x-python",
   "name": "python",
   "nbconvert_exporter": "python",
   "pygments_lexer": "ipython3",
   "version": "3.7.3"
  }
 },
 "nbformat": 4,
 "nbformat_minor": 2
}
